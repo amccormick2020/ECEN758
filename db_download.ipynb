{
 "cells": [
  {
   "cell_type": "code",
   "execution_count": 1,
   "id": "87aea2df",
   "metadata": {},
   "outputs": [
    {
     "name": "stdout",
     "output_type": "stream",
     "text": [
      "Requirement already satisfied: soundata in c:\\users\\austin\\anaconda3\\lib\\site-packages (1.0.1)\n",
      "Requirement already satisfied: librosa>=0.10.0 in c:\\users\\austin\\anaconda3\\lib\\site-packages (from soundata) (0.11.0)\n",
      "Requirement already satisfied: numpy>=1.21.6 in c:\\users\\austin\\anaconda3\\lib\\site-packages (from soundata) (1.26.4)\n",
      "Requirement already satisfied: pandas>=1.3.5 in c:\\users\\austin\\anaconda3\\lib\\site-packages (from soundata) (2.2.2)\n",
      "Requirement already satisfied: tqdm>=4.65.0 in c:\\users\\austin\\anaconda3\\lib\\site-packages (from soundata) (4.66.5)\n",
      "Requirement already satisfied: jams>=0.3.4 in c:\\users\\austin\\anaconda3\\lib\\site-packages (from soundata) (0.3.5)\n",
      "Requirement already satisfied: py7zr>=0.16.0 in c:\\users\\austin\\anaconda3\\lib\\site-packages (from soundata) (1.0.0)\n",
      "Requirement already satisfied: jsonschema>=4.0.1 in c:\\users\\austin\\anaconda3\\lib\\site-packages (from jams>=0.3.4->soundata) (4.23.0)\n",
      "Requirement already satisfied: mir_eval>=0.8.2 in c:\\users\\austin\\anaconda3\\lib\\site-packages (from jams>=0.3.4->soundata) (0.8.2)\n",
      "Requirement already satisfied: sortedcontainers>=2.1.0 in c:\\users\\austin\\anaconda3\\lib\\site-packages (from jams>=0.3.4->soundata) (2.4.0)\n",
      "Requirement already satisfied: six in c:\\users\\austin\\anaconda3\\lib\\site-packages (from jams>=0.3.4->soundata) (1.16.0)\n",
      "Requirement already satisfied: decorator in c:\\users\\austin\\anaconda3\\lib\\site-packages (from jams>=0.3.4->soundata) (5.1.1)\n",
      "Requirement already satisfied: audioread>=2.1.9 in c:\\users\\austin\\anaconda3\\lib\\site-packages (from librosa>=0.10.0->soundata) (3.1.0)\n",
      "Requirement already satisfied: numba>=0.51.0 in c:\\users\\austin\\anaconda3\\lib\\site-packages (from librosa>=0.10.0->soundata) (0.60.0)\n",
      "Requirement already satisfied: scipy>=1.6.0 in c:\\users\\austin\\anaconda3\\lib\\site-packages (from librosa>=0.10.0->soundata) (1.13.1)\n",
      "Requirement already satisfied: scikit-learn>=1.1.0 in c:\\users\\austin\\anaconda3\\lib\\site-packages (from librosa>=0.10.0->soundata) (1.5.1)\n",
      "Requirement already satisfied: joblib>=1.0 in c:\\users\\austin\\anaconda3\\lib\\site-packages (from librosa>=0.10.0->soundata) (1.4.2)\n",
      "Requirement already satisfied: soundfile>=0.12.1 in c:\\users\\austin\\anaconda3\\lib\\site-packages (from librosa>=0.10.0->soundata) (0.13.1)\n",
      "Requirement already satisfied: pooch>=1.1 in c:\\users\\austin\\anaconda3\\lib\\site-packages (from librosa>=0.10.0->soundata) (1.8.2)\n",
      "Requirement already satisfied: soxr>=0.3.2 in c:\\users\\austin\\anaconda3\\lib\\site-packages (from librosa>=0.10.0->soundata) (1.0.0)\n",
      "Requirement already satisfied: typing_extensions>=4.1.1 in c:\\users\\austin\\anaconda3\\lib\\site-packages (from librosa>=0.10.0->soundata) (4.15.0)\n",
      "Requirement already satisfied: lazy_loader>=0.1 in c:\\users\\austin\\anaconda3\\lib\\site-packages (from librosa>=0.10.0->soundata) (0.4)\n",
      "Requirement already satisfied: msgpack>=1.0 in c:\\users\\austin\\anaconda3\\lib\\site-packages (from librosa>=0.10.0->soundata) (1.0.3)\n",
      "Requirement already satisfied: python-dateutil>=2.8.2 in c:\\users\\austin\\anaconda3\\lib\\site-packages (from pandas>=1.3.5->soundata) (2.9.0.post0)\n",
      "Requirement already satisfied: pytz>=2020.1 in c:\\users\\austin\\anaconda3\\lib\\site-packages (from pandas>=1.3.5->soundata) (2024.1)\n",
      "Requirement already satisfied: tzdata>=2022.7 in c:\\users\\austin\\anaconda3\\lib\\site-packages (from pandas>=1.3.5->soundata) (2023.3)\n",
      "Requirement already satisfied: texttable in c:\\users\\austin\\anaconda3\\lib\\site-packages (from py7zr>=0.16.0->soundata) (1.7.0)\n",
      "Requirement already satisfied: pycryptodomex>=3.20.0 in c:\\users\\austin\\anaconda3\\lib\\site-packages (from py7zr>=0.16.0->soundata) (3.23.0)\n",
      "Requirement already satisfied: brotli>=1.1.0 in c:\\users\\austin\\anaconda3\\lib\\site-packages (from py7zr>=0.16.0->soundata) (1.1.0)\n",
      "Requirement already satisfied: psutil in c:\\users\\austin\\anaconda3\\lib\\site-packages (from py7zr>=0.16.0->soundata) (5.9.0)\n",
      "Requirement already satisfied: pyzstd>=0.16.1 in c:\\users\\austin\\anaconda3\\lib\\site-packages (from py7zr>=0.16.0->soundata) (0.18.0)\n",
      "Requirement already satisfied: pyppmd<1.3.0,>=1.1.0 in c:\\users\\austin\\anaconda3\\lib\\site-packages (from py7zr>=0.16.0->soundata) (1.2.0)\n",
      "Requirement already satisfied: pybcj<1.1.0,>=1.0.0 in c:\\users\\austin\\anaconda3\\lib\\site-packages (from py7zr>=0.16.0->soundata) (1.0.6)\n",
      "Requirement already satisfied: multivolumefile>=0.2.3 in c:\\users\\austin\\anaconda3\\lib\\site-packages (from py7zr>=0.16.0->soundata) (0.2.3)\n",
      "Requirement already satisfied: inflate64<1.1.0,>=1.0.0 in c:\\users\\austin\\anaconda3\\lib\\site-packages (from py7zr>=0.16.0->soundata) (1.0.3)\n",
      "Requirement already satisfied: colorama in c:\\users\\austin\\anaconda3\\lib\\site-packages (from tqdm>=4.65.0->soundata) (0.4.6)\n",
      "Requirement already satisfied: attrs>=22.2.0 in c:\\users\\austin\\anaconda3\\lib\\site-packages (from jsonschema>=4.0.1->jams>=0.3.4->soundata) (23.1.0)\n",
      "Requirement already satisfied: jsonschema-specifications>=2023.03.6 in c:\\users\\austin\\anaconda3\\lib\\site-packages (from jsonschema>=4.0.1->jams>=0.3.4->soundata) (2023.7.1)\n",
      "Requirement already satisfied: referencing>=0.28.4 in c:\\users\\austin\\anaconda3\\lib\\site-packages (from jsonschema>=4.0.1->jams>=0.3.4->soundata) (0.30.2)\n",
      "Requirement already satisfied: rpds-py>=0.7.1 in c:\\users\\austin\\anaconda3\\lib\\site-packages (from jsonschema>=4.0.1->jams>=0.3.4->soundata) (0.10.6)\n",
      "Requirement already satisfied: packaging in c:\\users\\austin\\anaconda3\\lib\\site-packages (from lazy_loader>=0.1->librosa>=0.10.0->soundata) (24.1)\n",
      "Requirement already satisfied: llvmlite<0.44,>=0.43.0dev0 in c:\\users\\austin\\anaconda3\\lib\\site-packages (from numba>=0.51.0->librosa>=0.10.0->soundata) (0.43.0)\n",
      "Requirement already satisfied: platformdirs>=2.5.0 in c:\\users\\austin\\anaconda3\\lib\\site-packages (from pooch>=1.1->librosa>=0.10.0->soundata) (3.10.0)\n",
      "Requirement already satisfied: requests>=2.19.0 in c:\\users\\austin\\anaconda3\\lib\\site-packages (from pooch>=1.1->librosa>=0.10.0->soundata) (2.32.3)\n",
      "Requirement already satisfied: threadpoolctl>=3.1.0 in c:\\users\\austin\\anaconda3\\lib\\site-packages (from scikit-learn>=1.1.0->librosa>=0.10.0->soundata) (3.5.0)\n",
      "Requirement already satisfied: cffi>=1.0 in c:\\users\\austin\\anaconda3\\lib\\site-packages (from soundfile>=0.12.1->librosa>=0.10.0->soundata) (1.17.1)\n",
      "Requirement already satisfied: pycparser in c:\\users\\austin\\anaconda3\\lib\\site-packages (from cffi>=1.0->soundfile>=0.12.1->librosa>=0.10.0->soundata) (2.21)\n",
      "Requirement already satisfied: charset-normalizer<4,>=2 in c:\\users\\austin\\anaconda3\\lib\\site-packages (from requests>=2.19.0->pooch>=1.1->librosa>=0.10.0->soundata) (3.3.2)\n",
      "Requirement already satisfied: idna<4,>=2.5 in c:\\users\\austin\\anaconda3\\lib\\site-packages (from requests>=2.19.0->pooch>=1.1->librosa>=0.10.0->soundata) (3.7)\n",
      "Requirement already satisfied: urllib3<3,>=1.21.1 in c:\\users\\austin\\anaconda3\\lib\\site-packages (from requests>=2.19.0->pooch>=1.1->librosa>=0.10.0->soundata) (2.2.3)\n",
      "Requirement already satisfied: certifi>=2017.4.17 in c:\\users\\austin\\anaconda3\\lib\\site-packages (from requests>=2.19.0->pooch>=1.1->librosa>=0.10.0->soundata) (2024.8.30)\n"
     ]
    }
   ],
   "source": [
    "!pip install soundata"
   ]
  },
  {
   "cell_type": "code",
   "execution_count": null,
   "id": "5126c870",
   "metadata": {},
   "outputs": [
    {
     "name": "stdout",
     "output_type": "stream",
     "text": [
      "Partial download keys:\n",
      "['FSD50K.dev_audio', 'FSD50K.eval_audio', 'ground_truth', 'metadata', 'documentation']\n"
     ]
    }
   ],
   "source": [
    "import soundata\n",
    "\n",
    "ds = soundata.initialize(\"fsd50k\", data_home=\"./FSD50K\")\n",
    "\n",
    "# all remotes for fsd50k, remove whichever ones you already have downloaded\n",
    "ds.download(partial_download=[\"FSD50K.dev_audio\", \"FSD50K.eval_audio\", \"ground_truth\", \"metadata\", \"documentation\"])\n"
   ]
  },
  {
   "cell_type": "code",
   "execution_count": 8,
   "id": "645622ab",
   "metadata": {},
   "outputs": [
    {
     "name": "stdout",
     "output_type": "stream",
     "text": [
      "Partial download keys:\n",
      "['FSD50K.dev_audio', 'FSD50K.eval_audio', 'ground_truth', 'metadata', 'documentation']\n",
      "\n",
      "FSD50K.dev_audio parts:\n",
      "FSD50K.dev_audio.zip\n",
      "FSD50K.dev_audio.z01\n",
      "FSD50K.dev_audio.z02\n",
      "FSD50K.dev_audio.z03\n",
      "FSD50K.dev_audio.z04\n",
      "FSD50K.dev_audio.z05\n"
     ]
    }
   ],
   "source": [
    "# This block can be used for troubleshooting if the download gets interrupted\n",
    "\n",
    "# See all valid partial_download keys\n",
    "# Useful due to the large number of files to download, download may get interrupted if downloading all files at once\n",
    "print(\"Partial download keys:\")\n",
    "print(list(ds.remotes.keys()))\n",
    "\n",
    "# Inspect what's inside a given remote (filenames / parts)\n",
    "remote = \"FSD50K.dev_audio\"\n",
    "print(\"\\n\" + remote + \" parts:\")\n",
    "for item in ds.remotes[remote]:\n",
    "    # Some remotes are lists of parts; others are single objects\n",
    "    try:\n",
    "        print(item.filename)\n",
    "    except AttributeError:\n",
    "        # Single-archive remotes (not lists)\n",
    "        print(ds.remotes[\"FSD50K.dev_audio\"].filename)\n",
    "        break\n"
   ]
  },
  {
   "cell_type": "code",
   "execution_count": null,
   "id": "4d3f3db8",
   "metadata": {},
   "outputs": [],
   "source": []
  }
 ],
 "metadata": {
  "kernelspec": {
   "display_name": "base",
   "language": "python",
   "name": "python3"
  },
  "language_info": {
   "codemirror_mode": {
    "name": "ipython",
    "version": 3
   },
   "file_extension": ".py",
   "mimetype": "text/x-python",
   "name": "python",
   "nbconvert_exporter": "python",
   "pygments_lexer": "ipython3",
   "version": "3.12.7"
  }
 },
 "nbformat": 4,
 "nbformat_minor": 5
}
